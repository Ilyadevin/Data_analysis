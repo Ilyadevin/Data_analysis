{
 "cells": [
  {
   "cell_type": "code",
   "execution_count": 1,
   "metadata": {},
   "outputs": [],
   "source": [
    "import pandas as pd"
   ]
  },
  {
   "cell_type": "code",
   "execution_count": 2,
   "metadata": {
    "scrolled": true
   },
   "outputs": [
    {
     "name": "stdout",
     "output_type": "stream",
     "text": [
      "> 1900, 1950, 2000\n",
      "          Count  Year\n",
      "Gender               \n",
      "F        299798  1900\n",
      "M        150480  1900\n",
      "F       1713065  1950\n",
      "M       1790437  1950\n",
      "F       1815295  2000\n",
      "M       1963202  2000\n"
     ]
    }
   ],
   "source": [
    "def dataframes(qwerty):\n",
    "    df_res_list = []\n",
    "    for list_1 in qwerty[0]:\n",
    "        df = pd.read_csv(f'names\\\\yob{list_1}.txt', names=['Name', 'Gender', 'Count'])\n",
    "        df_1 = df.groupby(['Gender']).sum()\n",
    "        df_1['Year'] = list_1\n",
    "        df_res_list.append(df_1)\n",
    "    df_res = pd.concat(df_res_list)\n",
    "    print(df_res)\n",
    "\n",
    "\n",
    "lists_of_years = []\n",
    "years = input('> ')\n",
    "lists_of_years.append(years.split(\", \"))\n",
    "dataframes(lists_of_years)"
   ]
  }
 ],
 "metadata": {
  "kernelspec": {
   "display_name": "Python 3",
   "language": "python",
   "name": "python3"
  },
  "language_info": {
   "codemirror_mode": {
    "name": "ipython",
    "version": 3
   },
   "file_extension": ".py",
   "mimetype": "text/x-python",
   "name": "python",
   "nbconvert_exporter": "python",
   "pygments_lexer": "ipython3",
   "version": "3.7.4"
  }
 },
 "nbformat": 4,
 "nbformat_minor": 2
}
