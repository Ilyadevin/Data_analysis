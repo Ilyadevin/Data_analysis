{
 "cells": [
  {
   "cell_type": "code",
   "execution_count": 1,
   "metadata": {},
   "outputs": [],
   "source": [
    "import pandas as pd"
   ]
  },
  {
   "cell_type": "code",
   "execution_count": 2,
   "metadata": {},
   "outputs": [
    {
     "name": "stdout",
     "output_type": "stream",
     "text": [
      "> 1880\n",
      "         Count\n",
      "Name          \n",
      "Mary      7092\n",
      "William   9562\n",
      "John      9701\n"
     ]
    }
   ],
   "source": [
    "def dataframes(qwerty):\n",
    "    df = pd.read_csv(f'names\\\\yob{qwerty}.txt', names=['Name', 'Gender', 'Count'])\n",
    "    df['Year'] = qwerty\n",
    "    print(df.sort_values('Count').tail(3))\n",
    "\n",
    "\n",
    "year = input('> ')\n",
    "dataframes(year)"
   ]
  },
  {
   "cell_type": "code",
   "execution_count": 3,
   "metadata": {},
   "outputs": [
    {
     "name": "stdout",
     "output_type": "stream",
     "text": [
      "> 1900, 1950, 2000\n",
      "         Count\n",
      "Name          \n",
      "Robert  101368\n",
      "John    109601\n",
      "James   111789\n"
     ]
    }
   ],
   "source": [
    "def dataframes(qwerty):\n",
    "    df_res_list = []\n",
    "    for list_1 in qwerty[0]:\n",
    "        df = pd.read_csv(f'names\\\\yob{list_1}.txt', names=['Name', 'Gender', 'Count'])\n",
    "        df['Year'] = list_1\n",
    "        df_res_list.append(df)\n",
    "    df_res = pd.concat(df_res_list)\n",
    "    df_res.reset_index()\n",
    "    print(df_res.groupby('Name').sum().sort_values('Count').tail(3))\n",
    "\n",
    "\n",
    "lists_of_years = []\n",
    "years = input('> ')\n",
    "lists_of_years.append(years.split(\", \"))\n",
    "dataframes(lists_of_years)\n"
   ]
  },
  {
   "cell_type": "code",
   "execution_count": null,
   "metadata": {},
   "outputs": [],
   "source": []
  },
  {
   "cell_type": "code",
   "execution_count": null,
   "metadata": {},
   "outputs": [],
   "source": []
  }
 ],
 "metadata": {
  "kernelspec": {
   "display_name": "Python 3",
   "language": "python",
   "name": "python3"
  },
  "language_info": {
   "codemirror_mode": {
    "name": "ipython",
    "version": 3
   },
   "file_extension": ".py",
   "mimetype": "text/x-python",
   "name": "python",
   "nbconvert_exporter": "python",
   "pygments_lexer": "ipython3",
   "version": "3.7.4"
  }
 },
 "nbformat": 4,
 "nbformat_minor": 2
}
